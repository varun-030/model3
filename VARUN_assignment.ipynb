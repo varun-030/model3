{
 "cells": [
  {
   "cell_type": "code",
   "execution_count": 1,
   "id": "e1d99372",
   "metadata": {},
   "outputs": [
    {
     "name": "stdout",
     "output_type": "stream",
     "text": [
      "Downloading data from https://storage.googleapis.com/tensorflow/keras-applications/vgg16/vgg16_weights_tf_dim_ordering_tf_kernels_notop.h5\n",
      "58892288/58889256 [==============================] - 6s 0us/step\n",
      "58900480/58889256 [==============================] - 6s 0us/step\n"
     ]
    }
   ],
   "source": [
    "from tensorflow import keras \n",
    "model_vgg16 = keras.applications.VGG16(weights='imagenet',input_shape=(224, 224, 3),include_top=False)"
   ]
  },
  {
   "cell_type": "code",
   "execution_count": 2,
   "id": "6497ac7d",
   "metadata": {},
   "outputs": [],
   "source": [
    "model_vgg16.trainable = False"
   ]
  },
  {
   "cell_type": "code",
   "execution_count": 4,
   "id": "ce17914d",
   "metadata": {},
   "outputs": [],
   "source": [
    "inputs = keras.Input(shape=(224, 224, 3))\n",
    "x_train = model_vgg16(inputs, training=False)\n",
    "x_train = keras.layers.GlobalAveragePooling2D()(x_train)\n",
    "expected_outputs = keras.layers.Dense(6, activation = 'softmax')(x_train)\n",
    "model_trianed = keras.Model(inputs,expected_outputs)"
   ]
  },
  {
   "cell_type": "code",
   "execution_count": 5,
   "id": "41033e86",
   "metadata": {},
   "outputs": [],
   "source": [
    "model_trianed.compile(loss = \"categorical_crossentropy\" , metrics = [\"accuracy\"])"
   ]
  },
  {
   "cell_type": "code",
   "execution_count": 6,
   "id": "42acb4bf",
   "metadata": {},
   "outputs": [],
   "source": [
    "from tensorflow.keras.preprocessing.image import ImageDataGenerator\n",
    "\n",
    "generator_data = ImageDataGenerator(rotation_range=10, zoom_range=0.1,width_shift_range=0.1,height_shift_range=0.1,horizontal_flip=True,\n",
    "    vertical_flip=False)"
   ]
  },
  {
   "cell_type": "code",
   "execution_count": 7,
   "id": "e70816e8",
   "metadata": {},
   "outputs": [
    {
     "name": "stdout",
     "output_type": "stream",
     "text": [
      "Found 10901 images belonging to 6 classes.\n"
     ]
    }
   ],
   "source": [
    "training_set = generator_data.flow_from_directory(r'C:\\Users\\91738\\OneDrive\\Documents\\SD_Project\\archive\\dataset\\train',target_size=(224, 224), color_mode='rgb', class_mode=\"categorical\")\n"
   ]
  },
  {
   "cell_type": "code",
   "execution_count": null,
   "id": "9597b396",
   "metadata": {},
   "outputs": [],
   "source": [
    "testing_set = generator_data.flow_from_directory(r'C:\\Users\\91738\\OneDrive\\Documents\\SD_Project\\archive\\dataset\\test',target_size=(224, 224), color_mode='rgb', class_mode=\"categorical\")\n"
   ]
  },
  {
   "cell_type": "code",
   "execution_count": 9,
   "id": "17338e2b",
   "metadata": {},
   "outputs": [
    {
     "name": "stdout",
     "output_type": "stream",
     "text": [
      "Epoch 1/5\n",
      "340/340 [==============================] - 1376s 4s/step - loss: 0.4242 - accuracy: 0.8759\n",
      "Epoch 2/5\n",
      "340/340 [==============================] - 1381s 4s/step - loss: 0.1556 - accuracy: 0.9500\n",
      "Epoch 3/5\n",
      "340/340 [==============================] - 1406s 4s/step - loss: 0.1020 - accuracy: 0.9665\n",
      "Epoch 4/5\n",
      "340/340 [==============================] - 1350s 4s/step - loss: 0.0788 - accuracy: 0.9725\n",
      "Epoch 5/5\n",
      "340/340 [==============================] - 1386s 4s/step - loss: 0.0642 - accuracy: 0.9791\n"
     ]
    },
    {
     "data": {
      "text/plain": [
       "<keras.callbacks.History at 0x27791da15e0>"
      ]
     },
     "execution_count": 9,
     "metadata": {},
     "output_type": "execute_result"
    }
   ],
   "source": [
    "# Change the epochs number if you have better ram and gpu\n",
    "model_trianed.fit(training_set,steps_per_epoch=training_set.samples/training_set.batch_size,epochs=5)"
   ]
  },
  {
   "cell_type": "code",
   "execution_count": null,
   "id": "1cdfb5bc",
   "metadata": {},
   "outputs": [],
   "source": [
    "model_trianed.fit(testing_set,steps_per_epoch=testing_set.samples/testing_set.batch_size,epochs=1)\n",
    "model_trained.pre"
   ]
  },
  {
   "cell_type": "code",
   "execution_count": 10,
   "id": "f4ed94bf",
   "metadata": {},
   "outputs": [],
   "source": [
    "epoch = [1,2,3,4,5]\n",
    "accuracy = [0.879,0.95,0.9665,0.9725,0.9791]\n",
    "loss = [0.4242,0.1556,0.1020,0.0788,0.0642]\n"
   ]
  },
  {
   "cell_type": "code",
   "execution_count": 12,
   "id": "a2767702",
   "metadata": {},
   "outputs": [],
   "source": [
    "import matplotlib.pyplot as plt"
   ]
  },
  {
   "cell_type": "code",
   "execution_count": 14,
   "id": "3b0a1842",
   "metadata": {},
   "outputs": [],
   "source": [
    "import numpy as np"
   ]
  },
  {
   "cell_type": "code",
   "execution_count": 16,
   "id": "4a3deca4",
   "metadata": {},
   "outputs": [
    {
     "data": {
      "image/png": "[encoded data removed]",
      "text/plain": [
       "<Figure size 432x288 with 1 Axes>"
      ]
     },
     "metadata": {
      "needs_background": "light"
     },
     "output_type": "display_data"
    }
   ],
   "source": [
    "epoch = np.array(epoch)\n",
    "accuracy = np.array(accuracy)\n",
    "\n",
    "plt.plot(epoch, accuracy)\n",
    "plt.xlabel(\"EPOCH\")\n",
    "plt.ylabel(\"Accuracy\")\n",
    "plt.show()"
   ]
  },
  {
   "cell_type": "code",
   "execution_count": 18,
   "id": "f0e797af",
   "metadata": {},
   "outputs": [
    {
     "data": {
      "image/png": "[encoded data removed]",
      "text/plain": [
       "<Figure size 432x288 with 1 Axes>"
      ]
     },
     "metadata": {
      "needs_background": "light"
     },
     "output_type": "display_data"
    }
   ],
   "source": [
    "losses = np.array(loss)\n",
    "\n",
    "plt.plot(epoch, losses)\n",
    "plt.xlabel(\"EPOCH\")\n",
    "plt.ylabel(\"loss\")\n",
    "plt.show()"
   ]
  },
  {
   "cell_type": "code",
   "execution_count": null,
   "id": "7d1e064c",
   "metadata": {},
   "outputs": [],
   "source": []
  }
 ],
 "metadata": {
  "kernelspec": {
   "display_name": "Python 3",
   "language": "python",
   "name": "python3"
  },
  "language_info": {
   "codemirror_mode": {
    "name": "ipython",
    "version": 3
   },
   "file_extension": ".py",
   "mimetype": "text/x-python",
   "name": "python",
   "nbconvert_exporter": "python",
   "pygments_lexer": "ipython3",
   "version": "3.8.8"
  }
 },
 "nbformat": 4,
 "nbformat_minor": 5
}
